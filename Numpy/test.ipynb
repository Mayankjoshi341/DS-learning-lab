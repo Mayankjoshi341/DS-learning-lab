{
 "cells": [
  {
   "cell_type": "code",
   "execution_count": 1,
   "id": "1b08e045",
   "metadata": {},
   "outputs": [],
   "source": [
    "import numpy as np"
   ]
  },
  {
   "cell_type": "code",
   "execution_count": null,
   "id": "86d01893",
   "metadata": {},
   "outputs": [],
   "source": [
    "shop_A = np.array([42,50,47,55,60])\n",
    "shop_B = np.array([38,45,43,50,55])"
   ]
  },
  {
   "cell_type": "code",
   "execution_count": 11,
   "id": "72aa3c8c",
   "metadata": {},
   "outputs": [
    {
     "name": "stdout",
     "output_type": "stream",
     "text": [
      "mean of shop A is 50.8 and shop B is 46.2\n",
      "variance of shop A is 38.96 and shop B is 34.160000000000004\n",
      "Std of shop A is 6.241794613730894 and shop is 5.844655678480984\n",
      "[[48.7  45.55]\n",
      " [45.55 42.7 ]]\n"
     ]
    }
   ],
   "source": [
    "meanA ,meanB = shop_A.mean() , shop_B.mean()\n",
    "varA , varB = shop_A.var() , shop_B.var()\n",
    "stdA , stdB = shop_A.std() , shop_B.std()\n",
    "cocvar = np.cov(shop_A , shop_B)\n",
    "print(f\"mean of shop A is {meanA} and shop B is {meanB}\")\n",
    "print(f\"variance of shop A is {varA} and shop B is {varB}\")\n",
    "print(f\"Std of shop A is {stdA} and shop is {stdB}\")\n",
    "print(cocvar)"
   ]
  }
 ],
 "metadata": {
  "kernelspec": {
   "display_name": "Python 3",
   "language": "python",
   "name": "python3"
  },
  "language_info": {
   "codemirror_mode": {
    "name": "ipython",
    "version": 3
   },
   "file_extension": ".py",
   "mimetype": "text/x-python",
   "name": "python",
   "nbconvert_exporter": "python",
   "pygments_lexer": "ipython3",
   "version": "3.12.2"
  }
 },
 "nbformat": 4,
 "nbformat_minor": 5
}
