{
 "cells": [
  {
   "cell_type": "markdown",
   "id": "b0151ee3",
   "metadata": {},
   "source": [
    "Array-Creation \n",
    "Day - 1\n",
    "1) Create a 1D array of numbers from 1 to 20.\n",
    "2) Create a 2D array of shape 4×5 with all zeros.\n",
    "3) Create a 3D array of shape 2×3×4 filled with random integers (1–50)."
   ]
  },
  {
   "cell_type": "code",
   "execution_count": 1,
   "id": "a006b00d",
   "metadata": {},
   "outputs": [],
   "source": [
    "import numpy as np"
   ]
  },
  {
   "cell_type": "code",
   "execution_count": 2,
   "id": "349e8d13",
   "metadata": {},
   "outputs": [
    {
     "name": "stdout",
     "output_type": "stream",
     "text": [
      "The que 1 array is : [ 1  2  3  4  5  6  7  8  9 10 11 12 13 14 15 16 17 18 19 20]\n"
     ]
    }
   ],
   "source": [
    "arr = np.arange(1,21)\n",
    "print(\"The que 1 array is :\", arr)"
   ]
  },
  {
   "cell_type": "code",
   "execution_count": 7,
   "id": "eeaf565f",
   "metadata": {},
   "outputs": [
    {
     "name": "stdout",
     "output_type": "stream",
     "text": [
      "A Array with only zero elements\n",
      "[[0. 0. 0. 0. 0.]\n",
      " [0. 0. 0. 0. 0.]\n",
      " [0. 0. 0. 0. 0.]\n",
      " [0. 0. 0. 0. 0.]]\n"
     ]
    }
   ],
   "source": [
    "arr = np.zeros(shape=(4,5))\n",
    "print(\"A Array with only zero elements\")\n",
    "print(arr)"
   ]
  },
  {
   "cell_type": "code",
   "execution_count": 4,
   "id": "90a6d0d0",
   "metadata": {},
   "outputs": [
    {
     "name": "stdout",
     "output_type": "stream",
     "text": [
      "[[[45 33  1 44]\n",
      "  [26 26 44 24]\n",
      "  [18 37 13 40]]\n",
      "\n",
      " [[44 47 12 38]\n",
      "  [26  1 39 24]\n",
      "  [48 22 14 19]]]\n"
     ]
    }
   ],
   "source": [
    "arr = np.random.randint(1,51 , size = (2,3,4))\n",
    "print(arr)"
   ]
  },
  {
   "cell_type": "markdown",
   "id": "f52686e0",
   "metadata": {},
   "source": [
    "<h5>Day-2<h5>\n",
    "\n",
    "1) Create an array of even numbers between 2 and 40.\n",
    "2) Create a 4×4 array filled with random floats (0–1).\n",
    "3) Create a 3×3 array with all elements = 7."
   ]
  },
  {
   "cell_type": "code",
   "execution_count": null,
   "id": "f6931d1b",
   "metadata": {},
   "outputs": [
    {
     "name": "stdout",
     "output_type": "stream",
     "text": [
      "Even array from 2 to 40 : [ 2  4  6  8 10 12 14 16 18 20 22 24 26 28 30 32 34 36 38 40]\n"
     ]
    }
   ],
   "source": [
    "#que 1\n",
    "arr = np.arange(2,42 , step=2)\n",
    "print(\"Even array from 2 to 40 :\" ,arr)"
   ]
  },
  {
   "cell_type": "code",
   "execution_count": null,
   "id": "d139177c",
   "metadata": {},
   "outputs": [
    {
     "name": "stdout",
     "output_type": "stream",
     "text": [
      "Matrix with random floats(0-1)\n",
      "[[0.03459825 0.88692439 0.29577854 0.08316901]\n",
      " [0.6671978  0.56062654 0.8031926  0.78596131]\n",
      " [0.86025324 0.54676116 0.79020529 0.65443363]\n",
      " [0.83822791 0.85694698 0.63530414 0.16634589]]\n"
     ]
    }
   ],
   "source": [
    "#que 2\n",
    "matrix = np.random.rand(4,4) #np.random.uniform(0.0 , 1.0 , size = (4,4))\n",
    "print(\"Matrix with random floats(0-1)\")\n",
    "print(matrix)"
   ]
  },
  {
   "cell_type": "code",
   "execution_count": 28,
   "id": "bede819d",
   "metadata": {},
   "outputs": [
    {
     "name": "stdout",
     "output_type": "stream",
     "text": [
      "Matirx with only element 7\n",
      "[[7 7 7]\n",
      " [7 7 7]\n",
      " [7 7 7]]\n"
     ]
    }
   ],
   "source": [
    "#que 3 \n",
    "matrix = np.full((3,3) , 7)\n",
    "print(\"Matirx with only element 7\")\n",
    "print(matrix)"
   ]
  }
 ],
 "metadata": {
  "kernelspec": {
   "display_name": "Python 3",
   "language": "python",
   "name": "python3"
  },
  "language_info": {
   "codemirror_mode": {
    "name": "ipython",
    "version": 3
   },
   "file_extension": ".py",
   "mimetype": "text/x-python",
   "name": "python",
   "nbconvert_exporter": "python",
   "pygments_lexer": "ipython3",
   "version": "3.12.2"
  }
 },
 "nbformat": 4,
 "nbformat_minor": 5
}
