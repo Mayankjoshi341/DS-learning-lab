{
 "cells": [
  {
   "cell_type": "markdown",
   "id": "b0151ee3",
   "metadata": {},
   "source": [
    "Array-Creation \n",
    "Day - 1\n",
    "1) Create a 1D array of numbers from 1 to 20.\n",
    "2) Create a 2D array of shape 4×5 with all zeros.\n",
    "3) Create a 3D array of shape 2×3×4 filled with random integers (1–50)."
   ]
  },
  {
   "cell_type": "code",
   "execution_count": 26,
   "id": "a006b00d",
   "metadata": {},
   "outputs": [],
   "source": [
    "import numpy as np"
   ]
  },
  {
   "cell_type": "code",
   "execution_count": 27,
   "id": "349e8d13",
   "metadata": {},
   "outputs": [
    {
     "name": "stdout",
     "output_type": "stream",
     "text": [
      "The que 1 array is : [ 1  2  3  4  5  6  7  8  9 10 11 12 13 14 15 16 17 18 19 20]\n"
     ]
    }
   ],
   "source": [
    "arr = np.arange(1,21)\n",
    "print(\"The que 1 array is :\", arr)"
   ]
  },
  {
   "cell_type": "code",
   "execution_count": 28,
   "id": "eeaf565f",
   "metadata": {},
   "outputs": [
    {
     "name": "stdout",
     "output_type": "stream",
     "text": [
      "A Array with only zero elements\n",
      "[[0. 0. 0. 0. 0.]\n",
      " [0. 0. 0. 0. 0.]\n",
      " [0. 0. 0. 0. 0.]\n",
      " [0. 0. 0. 0. 0.]]\n"
     ]
    }
   ],
   "source": [
    "arr = np.zeros(shape=(4,5))\n",
    "print(\"A Array with only zero elements\")\n",
    "print(arr)"
   ]
  },
  {
   "cell_type": "code",
   "execution_count": 29,
   "id": "90a6d0d0",
   "metadata": {},
   "outputs": [
    {
     "name": "stdout",
     "output_type": "stream",
     "text": [
      "[[[11 24 36 40]\n",
      "  [24  3 22  2]\n",
      "  [24 44 30 38]]\n",
      "\n",
      " [[ 2 21 33 12]\n",
      "  [22 44 25 49]\n",
      "  [27 42 28 16]]]\n"
     ]
    }
   ],
   "source": [
    "arr = np.random.randint(1,51 , size = (2,3,4))\n",
    "print(arr)"
   ]
  },
  {
   "cell_type": "markdown",
   "id": "f52686e0",
   "metadata": {},
   "source": [
    "<h5>Day-2<h5>\n",
    "\n",
    "1) Create an array of even numbers between 2 and 40.\n",
    "2) Create a 4×4 array filled with random floats (0–1).\n",
    "3) Create a 3×3 array with all elements = 7."
   ]
  },
  {
   "cell_type": "code",
   "execution_count": 30,
   "id": "f6931d1b",
   "metadata": {},
   "outputs": [
    {
     "name": "stdout",
     "output_type": "stream",
     "text": [
      "Even array from 2 to 40 : [ 2  4  6  8 10 12 14 16 18 20 22 24 26 28 30 32 34 36 38 40]\n"
     ]
    }
   ],
   "source": [
    "#que 1\n",
    "arr = np.arange(2,42 , step=2)\n",
    "print(\"Even array from 2 to 40 :\" ,arr)"
   ]
  },
  {
   "cell_type": "code",
   "execution_count": 31,
   "id": "d139177c",
   "metadata": {},
   "outputs": [
    {
     "name": "stdout",
     "output_type": "stream",
     "text": [
      "Matrix with random floats(0-1)\n",
      "[[0.23277134 0.09060643 0.61838601 0.38246199]\n",
      " [0.98323089 0.46676289 0.85994041 0.68030754]\n",
      " [0.45049925 0.01326496 0.94220176 0.56328822]\n",
      " [0.3854165  0.01596625 0.23089383 0.24102547]]\n"
     ]
    }
   ],
   "source": [
    "#que 2\n",
    "matrix = np.random.rand(4,4) #np.random.uniform(0.0 , 1.0 , size = (4,4))\n",
    "print(\"Matrix with random floats(0-1)\")\n",
    "print(matrix)"
   ]
  },
  {
   "cell_type": "code",
   "execution_count": 32,
   "id": "bede819d",
   "metadata": {},
   "outputs": [
    {
     "name": "stdout",
     "output_type": "stream",
     "text": [
      "Matirx with only element 7\n",
      "[[7 7 7]\n",
      " [7 7 7]\n",
      " [7 7 7]]\n"
     ]
    }
   ],
   "source": [
    "#que 3 \n",
    "matrix = np.full((3,3) , 7)\n",
    "print(\"Matirx with only element 7\")\n",
    "print(matrix)"
   ]
  },
  {
   "cell_type": "markdown",
   "id": "77996df7",
   "metadata": {},
   "source": [
    "<h5>Day 3"
   ]
  },
  {
   "cell_type": "markdown",
   "id": "6c8a315d",
   "metadata": {},
   "source": [
    "1) Create an array of shape 5×5 with values from 0–24 using np.arange.\n",
    "2) Create a logarithmically spaced array of 10 values between 10^1 and 10^3.\n",
    "3) Generate a 3×3 random integer matrix between 1–100 with a fixed seed (np.random.seed(42)) so results are reproducible."
   ]
  },
  {
   "cell_type": "code",
   "execution_count": 33,
   "id": "c32b2285",
   "metadata": {},
   "outputs": [
    {
     "name": "stdout",
     "output_type": "stream",
     "text": [
      "The array is :\n",
      "  [[ 0  1  2  3  4]\n",
      " [ 5  6  7  8  9]\n",
      " [10 11 12 13 14]\n",
      " [15 16 17 18 19]\n",
      " [20 21 22 23 24]]\n"
     ]
    }
   ],
   "source": [
    "arr = np.arange(0,25).reshape(5,5)\n",
    "print(\"The array is :\\n \" , arr)"
   ]
  },
  {
   "cell_type": "code",
   "execution_count": 34,
   "id": "2831dcbf",
   "metadata": {},
   "outputs": [
    {
     "name": "stdout",
     "output_type": "stream",
     "text": [
      "The logarithmically spaced array is :  [  10.           16.68100537   27.82559402   46.41588834   77.42636827\n",
      "  129.1549665   215.443469    359.38136638  599.48425032 1000.        ]\n"
     ]
    }
   ],
   "source": [
    "#que 2 \n",
    "arr = np.logspace(1,3 , num= 10)\n",
    "print(\"The logarithmically spaced array is : \", arr)"
   ]
  },
  {
   "cell_type": "code",
   "execution_count": 35,
   "id": "c3128872",
   "metadata": {},
   "outputs": [
    {
     "name": "stdout",
     "output_type": "stream",
     "text": [
      "Thee array is :\n",
      "  [[52 93 15]\n",
      " [72 61 21]\n",
      " [83 87 75]]\n"
     ]
    }
   ],
   "source": [
    "#que 3\n",
    "np.random.seed(42)\n",
    "arr = np.random.randint(1 , 100 , size = (3,3))\n",
    "print(\"Thee array is :\\n \" , arr)"
   ]
  },
  {
   "cell_type": "code",
   "execution_count": null,
   "id": "647a2171",
   "metadata": {},
   "outputs": [],
   "source": []
  }
 ],
 "metadata": {
  "kernelspec": {
   "display_name": "Python 3",
   "language": "python",
   "name": "python3"
  },
  "language_info": {
   "codemirror_mode": {
    "name": "ipython",
    "version": 3
   },
   "file_extension": ".py",
   "mimetype": "text/x-python",
   "name": "python",
   "nbconvert_exporter": "python",
   "pygments_lexer": "ipython3",
   "version": "3.12.2"
  }
 },
 "nbformat": 4,
 "nbformat_minor": 5
}
