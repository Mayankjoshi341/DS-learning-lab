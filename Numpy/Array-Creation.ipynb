{
 "cells": [
  {
   "cell_type": "markdown",
   "id": "b0151ee3",
   "metadata": {},
   "source": [
    "Array-Creation \n",
    "Day - 1\n",
    "1) Create a 1D array of numbers from 1 to 20.\n",
    "2) Create a 2D array of shape 4×5 with all zeros.\n",
    "3) Create a 3D array of shape 2×3×4 filled with random integers (1–50)."
   ]
  },
  {
   "cell_type": "code",
   "execution_count": 1,
   "id": "a006b00d",
   "metadata": {},
   "outputs": [],
   "source": [
    "import numpy as np"
   ]
  },
  {
   "cell_type": "code",
   "execution_count": 2,
   "id": "349e8d13",
   "metadata": {},
   "outputs": [
    {
     "name": "stdout",
     "output_type": "stream",
     "text": [
      "The que 1 array is : [ 1  2  3  4  5  6  7  8  9 10 11 12 13 14 15 16 17 18 19 20]\n"
     ]
    }
   ],
   "source": [
    "arr = np.arange(1,21)\n",
    "print(\"The que 1 array is :\", arr)"
   ]
  },
  {
   "cell_type": "code",
   "execution_count": 7,
   "id": "eeaf565f",
   "metadata": {},
   "outputs": [
    {
     "name": "stdout",
     "output_type": "stream",
     "text": [
      "A Array with only zero elements\n",
      "[[0. 0. 0. 0. 0.]\n",
      " [0. 0. 0. 0. 0.]\n",
      " [0. 0. 0. 0. 0.]\n",
      " [0. 0. 0. 0. 0.]]\n"
     ]
    }
   ],
   "source": [
    "arr = np.zeros(shape=(4,5))\n",
    "print(\"A Array with only zero elements\")\n",
    "print(arr)"
   ]
  },
  {
   "cell_type": "code",
   "execution_count": 4,
   "id": "90a6d0d0",
   "metadata": {},
   "outputs": [
    {
     "name": "stdout",
     "output_type": "stream",
     "text": [
      "[[[45 33  1 44]\n",
      "  [26 26 44 24]\n",
      "  [18 37 13 40]]\n",
      "\n",
      " [[44 47 12 38]\n",
      "  [26  1 39 24]\n",
      "  [48 22 14 19]]]\n"
     ]
    }
   ],
   "source": [
    "arr = np.random.randint(1,51 , size = (2,3,4))\n",
    "print(arr)"
   ]
  }
 ],
 "metadata": {
  "kernelspec": {
   "display_name": "Python 3",
   "language": "python",
   "name": "python3"
  },
  "language_info": {
   "codemirror_mode": {
    "name": "ipython",
    "version": 3
   },
   "file_extension": ".py",
   "mimetype": "text/x-python",
   "name": "python",
   "nbconvert_exporter": "python",
   "pygments_lexer": "ipython3",
   "version": "3.12.2"
  }
 },
 "nbformat": 4,
 "nbformat_minor": 5
}
