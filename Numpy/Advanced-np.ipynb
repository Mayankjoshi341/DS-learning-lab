{
 "cells": [
  {
   "cell_type": "markdown",
   "id": "ff26390f",
   "metadata": {},
   "source": [
    "<h3>📂 Advanced-np.ipynb"
   ]
  },
  {
   "cell_type": "code",
   "execution_count": 1,
   "id": "651b39b2",
   "metadata": {},
   "outputs": [],
   "source": [
    "import numpy as np"
   ]
  },
  {
   "cell_type": "markdown",
   "id": "b3c70ed6",
   "metadata": {},
   "source": [
    "Day-1\n",
    "1) Generate a 5×5 identity matrix.\n",
    "2) Create a diagonal matrix with values [2, 4, 6, 8].\n",
    "3) Create a 3×3 random matrix and find its transpose."
   ]
  },
  {
   "cell_type": "code",
   "execution_count": null,
   "id": "31468274",
   "metadata": {},
   "outputs": [
    {
     "name": "stdout",
     "output_type": "stream",
     "text": [
      "The identity matrix is \n",
      "[[1. 0. 0. 0. 0.]\n",
      " [0. 1. 0. 0. 0.]\n",
      " [0. 0. 1. 0. 0.]\n",
      " [0. 0. 0. 1. 0.]\n",
      " [0. 0. 0. 0. 1.]]\n"
     ]
    }
   ],
   "source": [
    "#que 1\n",
    "id_matrix = np.identity(n=5)\n",
    "print(\"The identity matrix is \")\n",
    "print(id_matrix)"
   ]
  },
  {
   "cell_type": "code",
   "execution_count": 23,
   "id": "b0ee8665",
   "metadata": {},
   "outputs": [
    {
     "name": "stdout",
     "output_type": "stream",
     "text": [
      "The matrix is:\n",
      "[[2. 0. 0. 0.]\n",
      " [0. 4. 0. 0.]\n",
      " [0. 0. 6. 0.]\n",
      " [0. 0. 0. 8.]]\n"
     ]
    }
   ],
   "source": [
    "#que 2\n",
    "dio = np.zeros(shape = (4,4))\n",
    "np.fill_diagonal(dio , val = [2,4,6,8])\n",
    "print(\"The matrix is:\")\n",
    "print(dio)\n"
   ]
  },
  {
   "cell_type": "code",
   "execution_count": 19,
   "id": "e35e08ad",
   "metadata": {},
   "outputs": [
    {
     "name": "stdout",
     "output_type": "stream",
     "text": [
      "The orignal matrix is:\n",
      "[[13 51  0]\n",
      " [59 58 11]\n",
      " [48 53 17]]\n",
      "The Transpose matrix is :\n",
      "[[13 59 48]\n",
      " [51 58 53]\n",
      " [ 0 11 17]]\n"
     ]
    }
   ],
   "source": [
    "matrix = np.random.randint(0,69 , size = (3,3))\n",
    "transpose_matrix = np.transpose(matrix)\n",
    "print(\"The orignal matrix is:\")\n",
    "print(matrix)\n",
    "print(\"The Transpose matrix is :\")\n",
    "print(transpose_matrix)"
   ]
  }
 ],
 "metadata": {
  "kernelspec": {
   "display_name": "Python 3",
   "language": "python",
   "name": "python3"
  },
  "language_info": {
   "codemirror_mode": {
    "name": "ipython",
    "version": 3
   },
   "file_extension": ".py",
   "mimetype": "text/x-python",
   "name": "python",
   "nbconvert_exporter": "python",
   "pygments_lexer": "ipython3",
   "version": "3.12.2"
  }
 },
 "nbformat": 4,
 "nbformat_minor": 5
}
