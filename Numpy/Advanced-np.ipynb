{
 "cells": [
  {
   "cell_type": "markdown",
   "id": "ff26390f",
   "metadata": {},
   "source": [
    "<h3>📂 Advanced-np.ipynb"
   ]
  },
  {
   "cell_type": "code",
   "execution_count": 2,
   "id": "651b39b2",
   "metadata": {},
   "outputs": [],
   "source": [
    "import numpy as np"
   ]
  },
  {
   "cell_type": "markdown",
   "id": "b3c70ed6",
   "metadata": {},
   "source": [
    "Day-1\n",
    "1) Generate a 5×5 identity matrix.\n",
    "2) Create a diagonal matrix with values [2, 4, 6, 8].\n",
    "3) Create a 3×3 random matrix and find its transpose."
   ]
  },
  {
   "cell_type": "code",
   "execution_count": 3,
   "id": "31468274",
   "metadata": {},
   "outputs": [
    {
     "name": "stdout",
     "output_type": "stream",
     "text": [
      "The identity matrix is \n",
      "[[1. 0. 0. 0. 0.]\n",
      " [0. 1. 0. 0. 0.]\n",
      " [0. 0. 1. 0. 0.]\n",
      " [0. 0. 0. 1. 0.]\n",
      " [0. 0. 0. 0. 1.]]\n"
     ]
    }
   ],
   "source": [
    "#que 1\n",
    "id_matrix = np.identity(n=5)\n",
    "print(\"The identity matrix is \")\n",
    "print(id_matrix)"
   ]
  },
  {
   "cell_type": "code",
   "execution_count": 4,
   "id": "b0ee8665",
   "metadata": {},
   "outputs": [
    {
     "name": "stdout",
     "output_type": "stream",
     "text": [
      "The matrix is:\n",
      "[[2. 0. 0. 0.]\n",
      " [0. 4. 0. 0.]\n",
      " [0. 0. 6. 0.]\n",
      " [0. 0. 0. 8.]]\n"
     ]
    }
   ],
   "source": [
    "#que 2\n",
    "dio = np.zeros(shape = (4,4))\n",
    "np.fill_diagonal(dio , val = [2,4,6,8])\n",
    "print(\"The matrix is:\")\n",
    "print(dio)\n"
   ]
  },
  {
   "cell_type": "code",
   "execution_count": 5,
   "id": "e35e08ad",
   "metadata": {},
   "outputs": [
    {
     "name": "stdout",
     "output_type": "stream",
     "text": [
      "The orignal matrix is:\n",
      "[[ 3 61 19]\n",
      " [ 7 38 50]\n",
      " [ 2 61 16]]\n",
      "The Transpose matrix is :\n",
      "[[ 3  7  2]\n",
      " [61 38 61]\n",
      " [19 50 16]]\n"
     ]
    }
   ],
   "source": [
    "matrix = np.random.randint(0,69 , size = (3,3))\n",
    "transpose_matrix = np.transpose(matrix)\n",
    "print(\"The orignal matrix is:\")\n",
    "print(matrix)\n",
    "print(\"The Transpose matrix is :\")\n",
    "print(transpose_matrix)"
   ]
  },
  {
   "cell_type": "markdown",
   "id": "2039e7c8",
   "metadata": {},
   "source": [
    "<h5>Day -2"
   ]
  },
  {
   "cell_type": "markdown",
   "id": "f7691f12",
   "metadata": {},
   "source": [
    "1) Create two random 2×2 matrices and perform matrix multiplication (np.matmul).\n",
    "2) Create a 3×3 random matrix and find its determinant.\n",
    "3) Create a 4×4 random matrix and find its inverse (if possible)."
   ]
  },
  {
   "cell_type": "code",
   "execution_count": null,
   "id": "fa55d337",
   "metadata": {},
   "outputs": [
    {
     "name": "stdout",
     "output_type": "stream",
     "text": [
      "The Matrix multiplication : \n",
      " [[19 22]\n",
      " [43 50]]\n"
     ]
    }
   ],
   "source": [
    "#que 1\n",
    "matrix_1 , matrix_2 = np.matrix([[1,2],[3,4]]) , np.matrix([[5,6],[7,8]])\n",
    "multi = np.matmul(matrix_1 , matrix_2)\n",
    "print(\"The Matrix multiplication : \\n\" ,multi)"
   ]
  },
  {
   "cell_type": "code",
   "execution_count": 30,
   "id": "454efb7d",
   "metadata": {},
   "outputs": [
    {
     "name": "stdout",
     "output_type": "stream",
     "text": [
      "The determiant of matrix : 9941.99999999999\n"
     ]
    }
   ],
   "source": [
    "#que 2 \n",
    "matrix = np.random.randint(1,50 , size = (3,3))\n",
    "determiant = np.linalg.det(matrix)\n",
    "print(\"The determiant of matrix :\" ,determiant )"
   ]
  },
  {
   "cell_type": "code",
   "execution_count": 34,
   "id": "7e4fa484",
   "metadata": {},
   "outputs": [
    {
     "name": "stdout",
     "output_type": "stream",
     "text": [
      "The orginal matrix is : \n",
      " [[23 28 41 17]\n",
      " [47 30  7 30]\n",
      " [34 33 46  6]\n",
      " [10  2 35 25]]\n",
      "The inversed matirx is : \n",
      " [[-0.0881111   0.01791085  0.05697848  0.02474769]\n",
      " [ 0.09807399 -0.00265634 -0.04733629 -0.052142  ]\n",
      " [-0.01077275 -0.01275529  0.01965043  0.01791571]\n",
      " [ 0.04248037  0.01090557 -0.04651509  0.00919029]]\n"
     ]
    }
   ],
   "source": [
    "#que 3\n",
    "matrix = np.random.randint(1,50 , size = (4,4))\n",
    "inverse = np.linalg.inv(matrix)\n",
    "print(\"The orginal matrix is : \\n\" , matrix)\n",
    "print(\"The inversed matirx is : \\n\" , inverse)"
   ]
  }
 ],
 "metadata": {
  "kernelspec": {
   "display_name": "Python 3",
   "language": "python",
   "name": "python3"
  },
  "language_info": {
   "codemirror_mode": {
    "name": "ipython",
    "version": 3
   },
   "file_extension": ".py",
   "mimetype": "text/x-python",
   "name": "python",
   "nbconvert_exporter": "python",
   "pygments_lexer": "ipython3",
   "version": "3.12.2"
  }
 },
 "nbformat": 4,
 "nbformat_minor": 5
}
