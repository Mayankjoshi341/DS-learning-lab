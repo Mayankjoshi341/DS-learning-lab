{
 "cells": [
  {
   "cell_type": "markdown",
   "id": "ff26390f",
   "metadata": {},
   "source": [
    "<h3>📂 Advanced-np.ipynb"
   ]
  },
  {
   "cell_type": "code",
   "execution_count": 3,
   "id": "651b39b2",
   "metadata": {},
   "outputs": [],
   "source": [
    "import numpy as np"
   ]
  },
  {
   "cell_type": "markdown",
   "id": "b3c70ed6",
   "metadata": {},
   "source": [
    "Day-1\n",
    "1) Generate a 5×5 identity matrix.\n",
    "2) Create a diagonal matrix with values [2, 4, 6, 8].\n",
    "3) Create a 3×3 random matrix and find its transpose."
   ]
  },
  {
   "cell_type": "code",
   "execution_count": 4,
   "id": "31468274",
   "metadata": {},
   "outputs": [
    {
     "name": "stdout",
     "output_type": "stream",
     "text": [
      "The identity matrix is \n",
      "[[1. 0. 0. 0. 0.]\n",
      " [0. 1. 0. 0. 0.]\n",
      " [0. 0. 1. 0. 0.]\n",
      " [0. 0. 0. 1. 0.]\n",
      " [0. 0. 0. 0. 1.]]\n"
     ]
    }
   ],
   "source": [
    "#que 1\n",
    "id_matrix = np.identity(n=5)\n",
    "print(\"The identity matrix is \")\n",
    "print(id_matrix)"
   ]
  },
  {
   "cell_type": "code",
   "execution_count": 5,
   "id": "b0ee8665",
   "metadata": {},
   "outputs": [
    {
     "name": "stdout",
     "output_type": "stream",
     "text": [
      "The matrix is:\n",
      "[[2. 0. 0. 0.]\n",
      " [0. 4. 0. 0.]\n",
      " [0. 0. 6. 0.]\n",
      " [0. 0. 0. 8.]]\n"
     ]
    }
   ],
   "source": [
    "#que 2\n",
    "dio = np.zeros(shape = (4,4))\n",
    "np.fill_diagonal(dio , val = [2,4,6,8])\n",
    "print(\"The matrix is:\")\n",
    "print(dio)\n"
   ]
  },
  {
   "cell_type": "code",
   "execution_count": 6,
   "id": "e35e08ad",
   "metadata": {},
   "outputs": [
    {
     "name": "stdout",
     "output_type": "stream",
     "text": [
      "The orignal matrix is:\n",
      "[[67 32 54]\n",
      " [33 25 37]\n",
      " [50 59 13]]\n",
      "The Transpose matrix is :\n",
      "[[67 33 50]\n",
      " [32 25 59]\n",
      " [54 37 13]]\n"
     ]
    }
   ],
   "source": [
    "matrix = np.random.randint(0,69 , size = (3,3))\n",
    "transpose_matrix = np.transpose(matrix)\n",
    "print(\"The orignal matrix is:\")\n",
    "print(matrix)\n",
    "print(\"The Transpose matrix is :\")\n",
    "print(transpose_matrix)"
   ]
  },
  {
   "cell_type": "markdown",
   "id": "2039e7c8",
   "metadata": {},
   "source": [
    "<h5>Day -2"
   ]
  },
  {
   "cell_type": "markdown",
   "id": "f7691f12",
   "metadata": {},
   "source": [
    "1) Create two random 2×2 matrices and perform matrix multiplication (np.matmul).\n",
    "2) Create a 3×3 random matrix and find its determinant.\n",
    "3) Create a 4×4 random matrix and find its inverse (if possible)."
   ]
  },
  {
   "cell_type": "code",
   "execution_count": 7,
   "id": "fa55d337",
   "metadata": {},
   "outputs": [
    {
     "name": "stdout",
     "output_type": "stream",
     "text": [
      "The Matrix multiplication : \n",
      " [[19 22]\n",
      " [43 50]]\n"
     ]
    }
   ],
   "source": [
    "#que 1\n",
    "matrix_1 , matrix_2 = np.matrix([[1,2],[3,4]]) , np.matrix([[5,6],[7,8]])\n",
    "multi = np.matmul(matrix_1 , matrix_2)\n",
    "print(\"The Matrix multiplication : \\n\" ,multi)"
   ]
  },
  {
   "cell_type": "code",
   "execution_count": 8,
   "id": "454efb7d",
   "metadata": {},
   "outputs": [
    {
     "name": "stdout",
     "output_type": "stream",
     "text": [
      "The determiant of matrix : -6149.999999999994\n"
     ]
    }
   ],
   "source": [
    "#que 2 \n",
    "matrix = np.random.randint(1,50 , size = (3,3))\n",
    "determiant = np.linalg.det(matrix)\n",
    "print(\"The determiant of matrix :\" ,determiant )"
   ]
  },
  {
   "cell_type": "code",
   "execution_count": 9,
   "id": "7e4fa484",
   "metadata": {},
   "outputs": [
    {
     "name": "stdout",
     "output_type": "stream",
     "text": [
      "The orginal matrix is : \n",
      " [[16 21 10 24]\n",
      " [ 8 42 43 37]\n",
      " [ 4 12 46 22]\n",
      " [17 21  9 19]]\n",
      "The inversed matirx is : \n",
      " [[-0.06912328 -0.04179547  0.02726598  0.13713367]\n",
      " [-0.09665719  0.04233131 -0.0340258   0.07905692]\n",
      " [-0.06392976 -0.00377149  0.02834797  0.0552739 ]\n",
      " [ 0.1989613  -0.0076048  -0.0002164  -0.18362805]]\n"
     ]
    }
   ],
   "source": [
    "#que 3\n",
    "matrix = np.random.randint(1,50 , size = (4,4))\n",
    "inverse = np.linalg.inv(matrix)\n",
    "print(\"The orginal matrix is : \\n\" , matrix)\n",
    "print(\"The inversed matirx is : \\n\" , inverse)"
   ]
  },
  {
   "cell_type": "markdown",
   "id": "b0e79eef",
   "metadata": {},
   "source": [
    "<h5>Day 3"
   ]
  },
  {
   "cell_type": "markdown",
   "id": "00d26e82",
   "metadata": {},
   "source": [
    "1) Create two arrays: a= np.array([1,2,3]), b = np.array([10,20,30])\n",
    "    3) Use broadcasting to add them to a 3×3 matrix.\n",
    "2) Stack two 1D arrays [1,2,3] and [4,5,6] vertically and horizontally.\n",
    "3) Create a 4×4 random matrix and find its eigenvalues and eigenvectors."
   ]
  },
  {
   "cell_type": "code",
   "execution_count": null,
   "id": "5084a776",
   "metadata": {},
   "outputs": [
    {
     "name": "stdout",
     "output_type": "stream",
     "text": [
      "[[11 21 31]\n",
      " [12 22 32]\n",
      " [13 23 33]]\n"
     ]
    }
   ],
   "source": [
    "a  , b= np.array([1,2,3]) , np.array([10,20,30])\n",
    "matrix = a.reshape(3,1) +b\n",
    "print(matrix)"
   ]
  },
  {
   "cell_type": "code",
   "execution_count": 18,
   "id": "d4b00823",
   "metadata": {},
   "outputs": [
    {
     "name": "stdout",
     "output_type": "stream",
     "text": [
      "The horizontally stacked array is [ 1  2  3 10 20 30] and vertical stacked array is [[ 1  2  3]\n",
      " [10 20 30]]\n"
     ]
    }
   ],
   "source": [
    "h_stack = np.hstack((a,b))\n",
    "v_stack = np.vstack((a,b))\n",
    "print(f\"The horizontally stacked array is {h_stack} and vertical stacked array is {v_stack}\")"
   ]
  },
  {
   "cell_type": "code",
   "execution_count": 43,
   "id": "002b5fc1",
   "metadata": {},
   "outputs": [
    {
     "name": "stdout",
     "output_type": "stream",
     "text": [
      "Matrix:\n",
      " [[0.70563767 0.61291196 0.38203216 0.2268938 ]\n",
      " [0.64358794 0.09978646 0.16013547 0.18723536]\n",
      " [0.73455079 0.16334866 0.68645713 0.96235749]\n",
      " [0.70244935 0.30618641 0.8907396  0.20652611]]\n",
      "\n",
      "Eigenvalues:\n",
      " [ 1.98640164  0.52074805 -0.28587628 -0.52286604]\n",
      "\n",
      "Eigenvectors:\n",
      " [[ 0.42098074  0.52406792 -0.55442631  0.19180119]\n",
      " [ 0.25540227  0.38998783  0.78569556 -0.24413011]\n",
      " [ 0.67591687 -0.67104378  0.01571143 -0.64165043]\n",
      " [ 0.54834412 -0.35066018  0.27394728  0.70135406]]\n"
     ]
    }
   ],
   "source": [
    "M = np.random.rand(4, 4) \n",
    "eigvals, eigvecs = np.linalg.eig(M)\n",
    "\n",
    "print(\"Matrix:\\n\", M)\n",
    "print(\"\\nEigenvalues:\\n\", eigvals)\n",
    "print(\"\\nEigenvectors:\\n\", eigvecs)\n"
   ]
  }
 ],
 "metadata": {
  "kernelspec": {
   "display_name": "Python 3",
   "language": "python",
   "name": "python3"
  },
  "language_info": {
   "codemirror_mode": {
    "name": "ipython",
    "version": 3
   },
   "file_extension": ".py",
   "mimetype": "text/x-python",
   "name": "python",
   "nbconvert_exporter": "python",
   "pygments_lexer": "ipython3",
   "version": "3.12.2"
  }
 },
 "nbformat": 4,
 "nbformat_minor": 5
}
