{
 "cells": [
  {
   "cell_type": "markdown",
   "id": "f0b3d25f",
   "metadata": {},
   "source": [
    "<h3>📂 Math-&-Statistics<h3>"
   ]
  },
  {
   "cell_type": "markdown",
   "id": "b1338e89",
   "metadata": {},
   "source": [
    "Day-1\n",
    "1) Take arrays a = [1, 2, 3, 4, 5], b = [5, 4, 3, 2, 1] → Perform addition & multiplication.\n",
    "2) Create a random array of 10 numbers between 0–100 → Find mean and median.\n",
    "3) Find min and max of that same array."
   ]
  },
  {
   "cell_type": "code",
   "execution_count": 2,
   "id": "bdbd92fb",
   "metadata": {},
   "outputs": [],
   "source": [
    "import numpy as np"
   ]
  },
  {
   "cell_type": "code",
   "execution_count": 3,
   "id": "f2b03efa",
   "metadata": {},
   "outputs": [
    {
     "name": "stdout",
     "output_type": "stream",
     "text": [
      "The addition of the arrays is : [6 6 6 6 6] ,And Sum of all numbers is : 30\n",
      "The multiplication of the arrays is : [5 8 9 8 5]\n"
     ]
    }
   ],
   "source": [
    "a = [1, 2, 3, 4, 5] \n",
    "b = [5, 4, 3, 2, 1]\n",
    "addition = np.add(a,b)\n",
    "multiply = np.multiply(a,b)\n",
    "print(\"The addition of the arrays is :\" , addition , \",And Sum of all numbers is :\", addition.sum())\n",
    "print(\"The multiplication of the arrays is :\" , multiply)"
   ]
  },
  {
   "cell_type": "code",
   "execution_count": 4,
   "id": "57b6b46a",
   "metadata": {},
   "outputs": [
    {
     "name": "stdout",
     "output_type": "stream",
     "text": [
      "The array is : [93 73 67 75 29 66 24  5 26 26]\n",
      "The mean of our array is : 48.4\n",
      "The median of array is : 47.5\n"
     ]
    }
   ],
   "source": [
    "arr = np.random.randint(0,101 , size = (10))\n",
    "print(\"The array is :\" , arr)\n",
    "print(\"The mean of our array is :\" ,arr.mean())\n",
    "print(\"The median of array is :\",np.median(arr))"
   ]
  },
  {
   "cell_type": "code",
   "execution_count": 5,
   "id": "81560c8b",
   "metadata": {},
   "outputs": [
    {
     "name": "stdout",
     "output_type": "stream",
     "text": [
      "The minimun value in array is 5 and the max value in the array is 93 \n"
     ]
    }
   ],
   "source": [
    "print(f\"The minimun value in array is {arr.min()} and the max value in the array is {np.max(arr)} \")"
   ]
  },
  {
   "cell_type": "markdown",
   "id": "a3759224",
   "metadata": {},
   "source": [
    "<h5>Day-2"
   ]
  },
  {
   "cell_type": "markdown",
   "id": "b98dbacd",
   "metadata": {},
   "source": [
    "1) For a = [2, 4, 6, 8] and b = [1, 3, 5, 7], compute:\n",
    "    1) Subtraction\n",
    "    2) Division\n",
    "    3) Dot product (np.dot)\n",
    "2) Create an array of 15 random integers (0–50). Find:\n",
    "    1) Mean\n",
    "    2) Standard deviation\n",
    "    3) Variance\n",
    "3) Normalize that array so that values are scaled between 0 and 1."
   ]
  },
  {
   "cell_type": "code",
   "execution_count": 6,
   "id": "74f14dff",
   "metadata": {},
   "outputs": [
    {
     "name": "stdout",
     "output_type": "stream",
     "text": [
      "Subtration from A and B\n",
      " [1 1 1 1]\n",
      "Division of A and B\n",
      " [2.         1.33333333 1.2        1.14285714]\n",
      "Dot product of A and B \n",
      " 100\n"
     ]
    }
   ],
   "source": [
    "#que 1\n",
    "A,B = np.array([2,4,6,8]) , np.array([1,3,5,7])\n",
    "print(\"Subtration from A and B\\n\" , np.subtract(A,B))\n",
    "print(\"Division of A and B\\n\"  , np.divide(A,B))\n",
    "print(\"Dot product of A and B \\n\" , np.dot(A,B))"
   ]
  },
  {
   "cell_type": "code",
   "execution_count": 7,
   "id": "cc7e998a",
   "metadata": {},
   "outputs": [
    {
     "name": "stdout",
     "output_type": "stream",
     "text": [
      "The array is:  [38 23 36 39 33 11 26 13 36 46 32 32  6 31 20]\n",
      "The mean of the array is:  28.133333333333333\n",
      "The standard deviation of the array is :  11.044556225680696\n",
      "The variance of the array is :  121.98222222222222\n",
      "The Z score array is : [  9.86666667  -5.13333333   7.86666667  10.86666667   4.86666667\n",
      " -17.13333333  -2.13333333 -15.13333333   7.86666667  17.86666667\n",
      "   3.86666667   3.86666667 -22.13333333   2.86666667  -8.13333333]\n"
     ]
    }
   ],
   "source": [
    "#que 2\n",
    "arr = np.random.randint(1, 50, size = 15)\n",
    "print(\"The array is: \", arr)\n",
    "print(\"The mean of the array is: \" , np.mean(arr))\n",
    "print(\"The standard deviation of the array is : \" , np.std(arr))\n",
    "print(\"The variance of the array is : \", np.var(arr))\n",
    "z_score_arr = np.subtract(arr , (np.mean(arr)))/1\n",
    "print(\"The Z score array is :\" ,z_score_arr)"
   ]
  },
  {
   "cell_type": "code",
   "execution_count": 8,
   "id": "e8c8eaf2",
   "metadata": {},
   "outputs": [
    {
     "name": "stdout",
     "output_type": "stream",
     "text": [
      "The normalized array is:  [0.8   0.425 0.75  0.825 0.675 0.125 0.5   0.175 0.75  1.    0.65  0.65\n",
      " 0.    0.625 0.35 ]\n"
     ]
    }
   ],
   "source": [
    "normalize_arr = ((arr-np.min(arr) )/ (np.max(arr) -np.min(arr)))\n",
    "print(\"The normalized array is: \" , normalize_arr)"
   ]
  },
  {
   "cell_type": "markdown",
   "id": "b3e79862",
   "metadata": {},
   "source": [
    "<h5>Day 3\n"
   ]
  },
  {
   "cell_type": "markdown",
   "id": "9d390f40",
   "metadata": {},
   "source": [
    "1) For a = np.array([1, 2, 3]) and b = np.array([4, 5, 6]), calculate:\n",
    "    1) Cross product (np.cross)\n",
    "    2) Dot product (np.dot)\n",
    "\n",
    "2) Generate a random array of 100 values → compute:\n",
    "    1) Median\n",
    "    2) 25th percentile\n",
    "    3) 75th percentile\n",
    "3) Standardize the array (z-score normalization)\n"
   ]
  },
  {
   "cell_type": "code",
   "execution_count": null,
   "id": "80cd49a3",
   "metadata": {},
   "outputs": [
    {
     "name": "stdout",
     "output_type": "stream",
     "text": [
      "The cross product of array a and b is :  [-3  6 -3]\n",
      "The dot product of array a abd b is :  32\n"
     ]
    }
   ],
   "source": [
    "a , b = np.array([1,2,3]) , np.array([4,5,6])\n",
    "cross = np.cross(a,b)\n",
    "dot = np.dot(a,b)\n",
    "print(\"The cross product of array a and b is : \",cross)\n",
    "print(\"The dot product of array a and b is : \" , dot)"
   ]
  },
  {
   "cell_type": "code",
   "execution_count": 15,
   "id": "cb35e5ee",
   "metadata": {},
   "outputs": [
    {
     "name": "stdout",
     "output_type": "stream",
     "text": [
      "The array is :\n",
      "[243  43 402 359 487   2 444 211 281 492 417 486 224 314  25 415 104 148\n",
      " 358 175 432 267 431 449 176   3 350 102 470 480 278 357 390   5 207 435\n",
      " 183 386 125 230 366 481 219  80 465 371   8 370 178  40  82 466  80 418\n",
      " 487 267 493 380  84  71 266 299  59 438 213 376 464 386 289 428 455 476\n",
      " 367  58 240 130 444  83 201  59 262  11  60 245  48 400 119 200 454  71\n",
      " 378  64   2 382  85 390  87 478 397 339]\n",
      "The median is 279.5 , 25th percentile is 103.5 and 75th percentitle is 415.5.\n"
     ]
    }
   ],
   "source": [
    "arr = np.random.randint(1,500 , size = (100))\n",
    "median = np.median(arr)\n",
    "per_25 = np.quantile(arr , 0.25)\n",
    "per_75 = np.quantile(arr , 0.75)\n",
    "print(f\"The array is :\\n{arr}\\nThe median is {median} , 25th percentile is {per_25} and 75th percentitle is {per_75}.\")"
   ]
  },
  {
   "cell_type": "code",
   "execution_count": 22,
   "id": "445015f3",
   "metadata": {},
   "outputs": [
    {
     "name": "stdout",
     "output_type": "stream",
     "text": [
      "The standardize array is :\n",
      "  [-0.16935046 -1.42612567  0.82978583  0.55957916  1.3639153  -1.68376459\n",
      "  1.09370863 -0.37043449  0.06943683  1.39533468  0.92404397  1.35763142\n",
      " -0.2887441   0.27680474 -1.53923544  0.91147622 -1.04280923 -0.76631868\n",
      "  0.55329529 -0.59665403  1.01830211 -0.01853743  1.01201824  1.12512801\n",
      " -0.59037015 -1.67748071  0.50302428 -1.05537698  1.2570894   1.31992816\n",
      "  0.0505852   0.54701141  0.75437932 -1.66491296 -0.39557     1.03715374\n",
      " -0.54638302  0.72924381 -0.91084783 -0.25104085  0.60356629  1.32621204\n",
      " -0.32016348 -1.19362225  1.22567002  0.63498567 -1.64606133  0.6287018\n",
      " -0.5778024  -1.4449773  -1.1810545   1.2319539  -1.19362225  0.93032785\n",
      "  1.3639153  -0.01853743  1.40161855  0.69154056 -1.16848675 -1.25017714\n",
      " -0.02482131  0.1825466  -1.32558365  1.05600537 -0.35786674  0.66640505\n",
      "  1.21938615  0.72924381  0.11970784  0.99316661  1.16283126  1.29479266\n",
      "  0.60985017 -1.33186753 -0.18820209 -0.87942845  1.09370863 -1.17477063\n",
      " -0.43327325 -1.32558365 -0.04995681 -1.6272097  -1.31929978 -0.15678271\n",
      " -1.39470629  0.81721808 -0.94855109 -0.43955713  1.15654739 -1.25017714\n",
      "  0.67897281 -1.29416427 -1.68376459  0.70410831 -1.16220287  0.75437932\n",
      " -1.14963512  1.30736041  0.79836645  0.43390164]\n"
     ]
    }
   ],
   "source": [
    "std_arr = (arr-np.mean(arr)) /np.std(arr)\n",
    "print(\"The standardize array is :\\n \" , std_arr)"
   ]
  }
 ],
 "metadata": {
  "kernelspec": {
   "display_name": "Python 3",
   "language": "python",
   "name": "python3"
  },
  "language_info": {
   "codemirror_mode": {
    "name": "ipython",
    "version": 3
   },
   "file_extension": ".py",
   "mimetype": "text/x-python",
   "name": "python",
   "nbconvert_exporter": "python",
   "pygments_lexer": "ipython3",
   "version": "3.12.2"
  }
 },
 "nbformat": 4,
 "nbformat_minor": 5
}
