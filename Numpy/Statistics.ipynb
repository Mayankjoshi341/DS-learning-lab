{
 "cells": [
  {
   "cell_type": "markdown",
   "id": "f0b3d25f",
   "metadata": {},
   "source": [
    "<h3>📂 Math-&-Statistics<h3>"
   ]
  },
  {
   "cell_type": "markdown",
   "id": "b1338e89",
   "metadata": {},
   "source": [
    "Day-1\n",
    "1) Take arrays a = [1, 2, 3, 4, 5], b = [5, 4, 3, 2, 1] → Perform addition & multiplication.\n",
    "2) Create a random array of 10 numbers between 0–100 → Find mean and median.\n",
    "3) Find min and max of that same array."
   ]
  },
  {
   "cell_type": "code",
   "execution_count": 1,
   "id": "bdbd92fb",
   "metadata": {},
   "outputs": [],
   "source": [
    "import numpy as np"
   ]
  },
  {
   "cell_type": "code",
   "execution_count": 7,
   "id": "f2b03efa",
   "metadata": {},
   "outputs": [
    {
     "name": "stdout",
     "output_type": "stream",
     "text": [
      "The addition of the arrays is : [6 6 6 6 6] ,And Sum of all numbers is : 30\n",
      "The multiplication of the arrays is : [5 8 9 8 5]\n"
     ]
    }
   ],
   "source": [
    "a = [1, 2, 3, 4, 5] \n",
    "b = [5, 4, 3, 2, 1]\n",
    "addition = np.add(a,b)\n",
    "multiply = np.multiply(a,b)\n",
    "print(\"The addition of the arrays is :\" , addition , \",And Sum of all numbers is :\", addition.sum())\n",
    "print(\"The multiplication of the arrays is :\" , multiply)"
   ]
  },
  {
   "cell_type": "code",
   "execution_count": 18,
   "id": "57b6b46a",
   "metadata": {},
   "outputs": [
    {
     "name": "stdout",
     "output_type": "stream",
     "text": [
      "The array is : [55 32 62 38 77 68 49  7 91 64]\n",
      "The mean of our array is : 54.3\n",
      "The median of array is : 58.5\n"
     ]
    }
   ],
   "source": [
    "arr = np.random.randint(0,101 , size = (10))\n",
    "print(\"The array is :\" , arr)\n",
    "print(\"The mean of our array is :\" ,arr.mean())\n",
    "print(\"The median of array is :\",np.median(arr))"
   ]
  },
  {
   "cell_type": "code",
   "execution_count": 19,
   "id": "81560c8b",
   "metadata": {},
   "outputs": [
    {
     "name": "stdout",
     "output_type": "stream",
     "text": [
      "The minimun value in array is 7 and the max value in the array is 91 \n"
     ]
    }
   ],
   "source": [
    "print(f\"The minimun value in array is {arr.min()} and the max value in the array is {np.max(arr)} \")"
   ]
  }
 ],
 "metadata": {
  "kernelspec": {
   "display_name": "Python 3",
   "language": "python",
   "name": "python3"
  },
  "language_info": {
   "codemirror_mode": {
    "name": "ipython",
    "version": 3
   },
   "file_extension": ".py",
   "mimetype": "text/x-python",
   "name": "python",
   "nbconvert_exporter": "python",
   "pygments_lexer": "ipython3",
   "version": "3.12.2"
  }
 },
 "nbformat": 4,
 "nbformat_minor": 5
}
