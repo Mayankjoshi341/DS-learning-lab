{
 "cells": [
  {
   "cell_type": "markdown",
   "id": "f0b3d25f",
   "metadata": {},
   "source": [
    "<h3>📂 Math-&-Statistics<h3>"
   ]
  },
  {
   "cell_type": "markdown",
   "id": "b1338e89",
   "metadata": {},
   "source": [
    "Day-1\n",
    "1) Take arrays a = [1, 2, 3, 4, 5], b = [5, 4, 3, 2, 1] → Perform addition & multiplication.\n",
    "2) Create a random array of 10 numbers between 0–100 → Find mean and median.\n",
    "3) Find min and max of that same array."
   ]
  },
  {
   "cell_type": "code",
   "execution_count": 3,
   "id": "bdbd92fb",
   "metadata": {},
   "outputs": [],
   "source": [
    "import numpy as np"
   ]
  },
  {
   "cell_type": "code",
   "execution_count": 4,
   "id": "f2b03efa",
   "metadata": {},
   "outputs": [
    {
     "name": "stdout",
     "output_type": "stream",
     "text": [
      "The addition of the arrays is : [6 6 6 6 6] ,And Sum of all numbers is : 30\n",
      "The multiplication of the arrays is : [5 8 9 8 5]\n"
     ]
    }
   ],
   "source": [
    "a = [1, 2, 3, 4, 5] \n",
    "b = [5, 4, 3, 2, 1]\n",
    "addition = np.add(a,b)\n",
    "multiply = np.multiply(a,b)\n",
    "print(\"The addition of the arrays is :\" , addition , \",And Sum of all numbers is :\", addition.sum())\n",
    "print(\"The multiplication of the arrays is :\" , multiply)"
   ]
  },
  {
   "cell_type": "code",
   "execution_count": 5,
   "id": "57b6b46a",
   "metadata": {},
   "outputs": [
    {
     "name": "stdout",
     "output_type": "stream",
     "text": [
      "The array is : [94 95 92 30 86 44 69 56 56 11]\n",
      "The mean of our array is : 63.3\n",
      "The median of array is : 62.5\n"
     ]
    }
   ],
   "source": [
    "arr = np.random.randint(0,101 , size = (10))\n",
    "print(\"The array is :\" , arr)\n",
    "print(\"The mean of our array is :\" ,arr.mean())\n",
    "print(\"The median of array is :\",np.median(arr))"
   ]
  },
  {
   "cell_type": "code",
   "execution_count": 6,
   "id": "81560c8b",
   "metadata": {},
   "outputs": [
    {
     "name": "stdout",
     "output_type": "stream",
     "text": [
      "The minimun value in array is 11 and the max value in the array is 95 \n"
     ]
    }
   ],
   "source": [
    "print(f\"The minimun value in array is {arr.min()} and the max value in the array is {np.max(arr)} \")"
   ]
  },
  {
   "cell_type": "markdown",
   "id": "a3759224",
   "metadata": {},
   "source": [
    "<h5>Day-2"
   ]
  },
  {
   "cell_type": "markdown",
   "id": "b98dbacd",
   "metadata": {},
   "source": [
    "1) For a = [2, 4, 6, 8] and b = [1, 3, 5, 7], compute:\n",
    "    1) Subtraction\n",
    "    2) Division\n",
    "    3) Dot product (np.dot)\n",
    "2) Create an array of 15 random integers (0–50). Find:\n",
    "    1) Mean\n",
    "    2) Standard deviation\n",
    "    3) Variance\n",
    "3) Normalize that array so that values are scaled between 0 and 1."
   ]
  },
  {
   "cell_type": "code",
   "execution_count": null,
   "id": "74f14dff",
   "metadata": {},
   "outputs": [
    {
     "name": "stdout",
     "output_type": "stream",
     "text": [
      "Subtration from A and B\n",
      " [1 1 1 1]\n",
      "Division of A and B\n",
      " [2.         1.33333333 1.2        1.14285714]\n",
      "Dot product of A and B \n",
      " 100\n"
     ]
    }
   ],
   "source": [
    "#que 1\n",
    "A,B = np.array([2,4,6,8]) , np.array([1,3,5,7])\n",
    "print(\"Subtration from A and B\\n\" , np.subtract(A,B))\n",
    "print(\"Division of A and B\\n\"  , np.divide(A,B))\n",
    "print(\"Dot product of A and B \\n\" , np.dot(A,B))"
   ]
  },
  {
   "cell_type": "code",
   "execution_count": 32,
   "id": "cc7e998a",
   "metadata": {},
   "outputs": [
    {
     "name": "stdout",
     "output_type": "stream",
     "text": [
      "The array is:  [ 1 35 16 49 10  9 48 48 45  7  2 39 30 17 31]\n",
      "The mean of the array is:  25.8\n",
      "The standard deviation of the array is :  17.19767426136453\n",
      "The variance of the array is :  295.76\n",
      "The Z score array is : [-24.8   9.2  -9.8  23.2 -15.8 -16.8  22.2  22.2  19.2 -18.8 -23.8  13.2\n",
      "   4.2  -8.8   5.2]\n"
     ]
    }
   ],
   "source": [
    "#que 2\n",
    "arr = np.random.randint(1, 50, size = 15)\n",
    "print(\"The array is: \", arr)\n",
    "print(\"The mean of the array is: \" , np.mean(arr))\n",
    "print(\"The standard deviation of the array is : \" , np.std(arr))\n",
    "print(\"The variance of the array is : \", np.var(arr))\n",
    "z_score_arr = np.subtract(arr , (np.mean(arr)))/1\n",
    "print(\"The Z score array is :\" ,z_score_arr)"
   ]
  },
  {
   "cell_type": "code",
   "execution_count": 35,
   "id": "e8c8eaf2",
   "metadata": {},
   "outputs": [
    {
     "name": "stdout",
     "output_type": "stream",
     "text": [
      "The normalized array is:  [0.         0.70833333 0.3125     1.         0.1875     0.16666667\n",
      " 0.97916667 0.97916667 0.91666667 0.125      0.02083333 0.79166667\n",
      " 0.60416667 0.33333333 0.625     ]\n"
     ]
    }
   ],
   "source": [
    "normalize_arr = ((arr-np.min(arr) )/ (np.max(arr) -np.min(arr)))\n",
    "print(\"The normalized array is: \" , normalize_arr)"
   ]
  }
 ],
 "metadata": {
  "kernelspec": {
   "display_name": "Python 3",
   "language": "python",
   "name": "python3"
  },
  "language_info": {
   "codemirror_mode": {
    "name": "ipython",
    "version": 3
   },
   "file_extension": ".py",
   "mimetype": "text/x-python",
   "name": "python",
   "nbconvert_exporter": "python",
   "pygments_lexer": "ipython3",
   "version": "3.12.2"
  }
 },
 "nbformat": 4,
 "nbformat_minor": 5
}
