{
 "cells": [
  {
   "cell_type": "markdown",
   "id": "f6709e33",
   "metadata": {},
   "source": [
    "<h3>Indexing-&-Slicing"
   ]
  },
  {
   "cell_type": "markdown",
   "id": "7979c295",
   "metadata": {},
   "source": [
    "\n",
    "Day-1\n",
    "1) From the array [10, 20, 30, 40, 50, 60], extract every 2nd element.\n",
    "2) From a 3×3 matrix of numbers 1–9, extract the 2nd row.\n",
    "3) From the same matrix, extract the last column."
   ]
  },
  {
   "cell_type": "code",
   "execution_count": 2,
   "id": "fd7ddf13",
   "metadata": {},
   "outputs": [],
   "source": [
    "import numpy as np"
   ]
  },
  {
   "cell_type": "code",
   "execution_count": 3,
   "id": "da170457",
   "metadata": {},
   "outputs": [
    {
     "name": "stdout",
     "output_type": "stream",
     "text": [
      "[10 20 30 40 50 60]\n",
      "Every 2 element from the arr is : [10 30 50]\n"
     ]
    }
   ],
   "source": [
    "arr = np.array([10,20,30,40,50,60])\n",
    "print(arr)\n",
    "print(\"Every 2 element from the arr is :\" , arr[::2]) #step is 2 so it skips 2 element."
   ]
  },
  {
   "cell_type": "code",
   "execution_count": 4,
   "id": "438f300b",
   "metadata": {},
   "outputs": [
    {
     "name": "stdout",
     "output_type": "stream",
     "text": [
      "The second row is [4 5 6]\n"
     ]
    }
   ],
   "source": [
    "matrix = np.arange(1,10).reshape(3,3)\n",
    "print(\"The second row is\",matrix[1])"
   ]
  },
  {
   "cell_type": "code",
   "execution_count": 5,
   "id": "40dc8932",
   "metadata": {},
   "outputs": [
    {
     "name": "stdout",
     "output_type": "stream",
     "text": [
      "The last row of matrix is : [ 4  8 12 16]\n"
     ]
    }
   ],
   "source": [
    "matrix = np.arange(1,17).reshape(4,4)\n",
    "print(\"The last row of matrix is :\",matrix[: , -1]) # all rows , last column"
   ]
  },
  {
   "cell_type": "markdown",
   "id": "ec50d336",
   "metadata": {},
   "source": [
    "<h5>Day-2<h5>\n",
    "\n",
    "1) From the array [5, 10, 15, 20, 25, 30, 35, 40], extract elements at indices [1, 3, 5] using fancy indexing.\n",
    "2) From a 4×4 matrix (values 1–16), slice out the 2×2 submatrix from the bottom-right corner.\n",
    "3) From the same matrix, select all elements greater than 10 (boolean indexing)."
   ]
  },
  {
   "cell_type": "code",
   "execution_count": 6,
   "id": "e3322ef8",
   "metadata": {},
   "outputs": [
    {
     "name": "stdout",
     "output_type": "stream",
     "text": [
      "[10 20 30]\n"
     ]
    }
   ],
   "source": [
    "arr = np.array([5,10,15,20,25,30,35,40])\n",
    "indexed = arr[[1,3,5]]\n",
    "print(indexed)"
   ]
  },
  {
   "cell_type": "code",
   "execution_count": 7,
   "id": "002ea38d",
   "metadata": {},
   "outputs": [
    {
     "name": "stdout",
     "output_type": "stream",
     "text": [
      "The full matrix is \n",
      " [[ 1  2  3  4]\n",
      " [ 5  6  7  8]\n",
      " [ 9 10 11 12]\n",
      " [13 14 15 16]]\n",
      "The submatrix is \n",
      " [[11 12]\n",
      " [15 16]]\n"
     ]
    }
   ],
   "source": [
    "arr = np.arange(1,17).reshape(4,4)\n",
    "submatrix = arr[2:4 , 2:4]\n",
    "print(\"The full matrix is \\n\" , arr)\n",
    "print(\"The submatrix is \\n\" , submatrix)"
   ]
  },
  {
   "cell_type": "code",
   "execution_count": 8,
   "id": "e133ea87",
   "metadata": {},
   "outputs": [
    {
     "name": "stdout",
     "output_type": "stream",
     "text": [
      "Values greater then 10 in the matrix:  [11 12 13 14 15 16]\n"
     ]
    }
   ],
   "source": [
    "grater_10 = arr[arr > 10]\n",
    "print(\"Values greater then 10 in the matrix: \" , grater_10)"
   ]
  },
  {
   "cell_type": "markdown",
   "id": "c5cc3973",
   "metadata": {},
   "source": [
    "<h5>Day 3"
   ]
  },
  {
   "cell_type": "markdown",
   "id": "5c3f02bc",
   "metadata": {},
   "source": [
    "1) From a 5×5 matrix of numbers 1–25, extract the diagonal using slicing.\n",
    "2) Replace the last row of the matrix with all -1.3\n",
    "3) From the same matrix, extract only the corner elements ([1, 5, 21, 25])."
   ]
  },
  {
   "cell_type": "code",
   "execution_count": 29,
   "id": "051f0bbf",
   "metadata": {},
   "outputs": [
    {
     "name": "stdout",
     "output_type": "stream",
     "text": [
      "matix \n",
      " [[ 1  2  3  4  5]\n",
      " [ 6  7  8  9 10]\n",
      " [11 12 13 14 15]\n",
      " [16 17 18 19 20]\n",
      " [21 22 23 24 25]]\n",
      "The diagonal element are :  [ 1  7 13 19 25]\n"
     ]
    }
   ],
   "source": [
    "#que 1\n",
    "matrix = np.arange(1,26).reshape(5,5)\n",
    "dig = matrix[np.arange(5) , np.arange(5)]\n",
    "print(\"matix \\n\" , matrix)\n",
    "print(\"The diagonal element are : \" , dig)\n"
   ]
  },
  {
   "cell_type": "code",
   "execution_count": 32,
   "id": "17d5ac4d",
   "metadata": {},
   "outputs": [
    {
     "name": "stdout",
     "output_type": "stream",
     "text": [
      "The modified matrix is : \n",
      " [[ 1  2  3  4  5]\n",
      " [ 6  7  8  9 10]\n",
      " [11 12 13 14 15]\n",
      " [16 17 18 19 20]\n",
      " [21 22 23 24 -1]]\n"
     ]
    }
   ],
   "source": [
    "#que 2 \n",
    "matrix[4:5 , 4:5] = np.float16(-1.3)\n",
    "print(\"The modified matrix is : \\n\" , matrix )"
   ]
  },
  {
   "cell_type": "code",
   "execution_count": null,
   "id": "90a913c5",
   "metadata": {},
   "outputs": [
    {
     "name": "stdout",
     "output_type": "stream",
     "text": [
      "The egdes are :  [1] [5] [-1] [21]\n"
     ]
    }
   ],
   "source": [
    "#que 3\n",
    "lu = matrix[0 , :1]\n",
    "ld = matrix[4,:1]\n",
    "ru = matrix[0,4:]\n",
    "rd = matrix[4 ,4:]\n",
    "\n",
    "print(\"The egdes are : \" , lu  , ru , ld, rd)"
   ]
  }
 ],
 "metadata": {
  "kernelspec": {
   "display_name": "Python 3",
   "language": "python",
   "name": "python3"
  },
  "language_info": {
   "codemirror_mode": {
    "name": "ipython",
    "version": 3
   },
   "file_extension": ".py",
   "mimetype": "text/x-python",
   "name": "python",
   "nbconvert_exporter": "python",
   "pygments_lexer": "ipython3",
   "version": "3.12.2"
  }
 },
 "nbformat": 4,
 "nbformat_minor": 5
}
