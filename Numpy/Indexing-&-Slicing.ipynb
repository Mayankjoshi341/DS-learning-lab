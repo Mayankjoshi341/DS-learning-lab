{
 "cells": [
  {
   "cell_type": "markdown",
   "id": "f6709e33",
   "metadata": {},
   "source": [
    "<h3>Indexing-&-Slicing"
   ]
  },
  {
   "cell_type": "markdown",
   "id": "7979c295",
   "metadata": {},
   "source": [
    "\n",
    "Day-1\n",
    "1) From the array [10, 20, 30, 40, 50, 60], extract every 2nd element.\n",
    "2) From a 3×3 matrix of numbers 1–9, extract the 2nd row.\n",
    "3) From the same matrix, extract the last column."
   ]
  },
  {
   "cell_type": "code",
   "execution_count": 10,
   "id": "fd7ddf13",
   "metadata": {},
   "outputs": [],
   "source": [
    "import numpy as np"
   ]
  },
  {
   "cell_type": "code",
   "execution_count": 18,
   "id": "da170457",
   "metadata": {},
   "outputs": [
    {
     "name": "stdout",
     "output_type": "stream",
     "text": [
      "[10 20 30 40 50 60]\n",
      "Every 2 element from the arr is : [10 30 50]\n"
     ]
    }
   ],
   "source": [
    "arr = np.array([10,20,30,40,50,60])\n",
    "print(arr)\n",
    "print(\"Every 2 element from the arr is :\" , arr[::2]) #step is 2 so it skips 2 element."
   ]
  },
  {
   "cell_type": "code",
   "execution_count": 25,
   "id": "438f300b",
   "metadata": {},
   "outputs": [
    {
     "name": "stdout",
     "output_type": "stream",
     "text": [
      "The second row is [4 5 6]\n"
     ]
    }
   ],
   "source": [
    "matrix = np.arange(1,10).reshape(3,3)\n",
    "print(\"The second row is\",matrix[1])"
   ]
  },
  {
   "cell_type": "code",
   "execution_count": 67,
   "id": "40dc8932",
   "metadata": {},
   "outputs": [
    {
     "name": "stdout",
     "output_type": "stream",
     "text": [
      "The last row of matrix is : [ 4  8 12 16]\n"
     ]
    }
   ],
   "source": [
    "matrix = np.arange(1,17).reshape(4,4)\n",
    "print(\"The last row of matrix is :\",matrix[: , -1]) # all rows , last column"
   ]
  },
  {
   "cell_type": "markdown",
   "id": "ec50d336",
   "metadata": {},
   "source": [
    "<h5>Day-2<h5>\n",
    "\n",
    "1) From the array [5, 10, 15, 20, 25, 30, 35, 40], extract elements at indices [1, 3, 5] using fancy indexing.\n",
    "2) From a 4×4 matrix (values 1–16), slice out the 2×2 submatrix from the bottom-right corner.\n",
    "3) From the same matrix, select all elements greater than 10 (boolean indexing)."
   ]
  },
  {
   "cell_type": "code",
   "execution_count": 11,
   "id": "e3322ef8",
   "metadata": {},
   "outputs": [
    {
     "name": "stdout",
     "output_type": "stream",
     "text": [
      "[10 20 30]\n"
     ]
    }
   ],
   "source": [
    "arr = np.array([5,10,15,20,25,30,35,40])\n",
    "indexed = arr[[1,3,5]]\n",
    "print(indexed)"
   ]
  },
  {
   "cell_type": "code",
   "execution_count": 17,
   "id": "002ea38d",
   "metadata": {},
   "outputs": [
    {
     "name": "stdout",
     "output_type": "stream",
     "text": [
      "The full matrix is \n",
      " [[ 1  2  3  4]\n",
      " [ 5  6  7  8]\n",
      " [ 9 10 11 12]\n",
      " [13 14 15 16]]\n",
      "The submatrix is \n",
      " [[11 12]\n",
      " [15 16]]\n"
     ]
    }
   ],
   "source": [
    "arr = np.arange(1,17).reshape(4,4)\n",
    "submatrix = arr[2:4 , 2:4]\n",
    "print(\"The full matrix is \\n\" , arr)\n",
    "print(\"The submatrix is \\n\" , submatrix)"
   ]
  },
  {
   "cell_type": "code",
   "execution_count": 18,
   "id": "e133ea87",
   "metadata": {},
   "outputs": [
    {
     "name": "stdout",
     "output_type": "stream",
     "text": [
      "Values greater then 10 in the matrix:  [11 12 13 14 15 16]\n"
     ]
    }
   ],
   "source": [
    "grater_10 = arr[arr > 10]\n",
    "print(\"Values greater then 10 in the matrix: \" , grater_10)"
   ]
  }
 ],
 "metadata": {
  "kernelspec": {
   "display_name": "Python 3",
   "language": "python",
   "name": "python3"
  },
  "language_info": {
   "codemirror_mode": {
    "name": "ipython",
    "version": 3
   },
   "file_extension": ".py",
   "mimetype": "text/x-python",
   "name": "python",
   "nbconvert_exporter": "python",
   "pygments_lexer": "ipython3",
   "version": "3.12.2"
  }
 },
 "nbformat": 4,
 "nbformat_minor": 5
}
