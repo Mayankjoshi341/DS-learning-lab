{
 "cells": [
  {
   "cell_type": "markdown",
   "id": "7979c295",
   "metadata": {},
   "source": [
    "Indexing-&-Slicing\n",
    "Day-1\n",
    "1) From the array [10, 20, 30, 40, 50, 60], extract every 2nd element.\n",
    "2) From a 3×3 matrix of numbers 1–9, extract the 2nd row.\n",
    "3) From the same matrix, extract the last column."
   ]
  },
  {
   "cell_type": "code",
   "execution_count": 1,
   "id": "fd7ddf13",
   "metadata": {},
   "outputs": [],
   "source": [
    "import numpy as np"
   ]
  },
  {
   "cell_type": "code",
   "execution_count": 18,
   "id": "da170457",
   "metadata": {},
   "outputs": [
    {
     "name": "stdout",
     "output_type": "stream",
     "text": [
      "[10 20 30 40 50 60]\n",
      "Every 2 element from the arr is : [10 30 50]\n"
     ]
    }
   ],
   "source": [
    "arr = np.array([10,20,30,40,50,60])\n",
    "print(arr)\n",
    "print(\"Every 2 element from the arr is :\" , arr[::2]) #step is 2 so it skips 2 element."
   ]
  },
  {
   "cell_type": "code",
   "execution_count": 25,
   "id": "438f300b",
   "metadata": {},
   "outputs": [
    {
     "name": "stdout",
     "output_type": "stream",
     "text": [
      "The second row is [4 5 6]\n"
     ]
    }
   ],
   "source": [
    "matrix = np.arange(1,10).reshape(3,3)\n",
    "print(\"The second row is\",matrix[1])"
   ]
  },
  {
   "cell_type": "code",
   "execution_count": 67,
   "id": "40dc8932",
   "metadata": {},
   "outputs": [
    {
     "name": "stdout",
     "output_type": "stream",
     "text": [
      "The last row of matrix is : [ 4  8 12 16]\n"
     ]
    }
   ],
   "source": [
    "matrix = np.arange(1,17).reshape(4,4)\n",
    "print(\"The last row of matrix is :\",matrix[: , -1]) # all rows , last column"
   ]
  }
 ],
 "metadata": {
  "kernelspec": {
   "display_name": "Python 3",
   "language": "python",
   "name": "python3"
  },
  "language_info": {
   "codemirror_mode": {
    "name": "ipython",
    "version": 3
   },
   "file_extension": ".py",
   "mimetype": "text/x-python",
   "name": "python",
   "nbconvert_exporter": "python",
   "pygments_lexer": "ipython3",
   "version": "3.12.2"
  }
 },
 "nbformat": 4,
 "nbformat_minor": 5
}
