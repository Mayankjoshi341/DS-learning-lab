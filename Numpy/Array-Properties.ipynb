{
 "cells": [
  {
   "cell_type": "markdown",
   "id": "e1969a0f",
   "metadata": {},
   "source": [
    "Array-Properties-&-Reshaping\n",
    "Day-1\n",
    "\n",
    "1) Create an array of numbers 1–12. Print: shape, size, ndim, dtype.\n",
    "2) Reshape it into a 3×4 matrix.\n",
    "3) Flatten the matrix back into 1D."
   ]
  },
  {
   "cell_type": "code",
   "execution_count": 2,
   "id": "693cb62c",
   "metadata": {},
   "outputs": [],
   "source": [
    "import numpy as np"
   ]
  },
  {
   "cell_type": "code",
   "execution_count": 3,
   "id": "e60aef1a",
   "metadata": {},
   "outputs": [
    {
     "name": "stdout",
     "output_type": "stream",
     "text": [
      "The shape of array is: (12,)\n",
      "the size of array is: 12\n",
      "The dimensions of the array is : 1\n",
      "The data type od array is : <class 'numpy.ndarray'>\n"
     ]
    }
   ],
   "source": [
    "#que 1\n",
    "arr = np.arange(1,13)\n",
    "print(\"The shape of array is:\" , arr.shape)\n",
    "print(\"the size of array is:\" , arr.size)\n",
    "print(\"The dimensions of the array is :\" , arr.ndim)\n",
    "print(\"The data type od array is :\" , type(arr))"
   ]
  },
  {
   "cell_type": "code",
   "execution_count": 4,
   "id": "8b3931c0",
   "metadata": {},
   "outputs": [
    {
     "name": "stdout",
     "output_type": "stream",
     "text": [
      "The reshaped array is :\n",
      "[[ 1  2  3  4]\n",
      " [ 5  6  7  8]\n",
      " [ 9 10 11 12]]\n"
     ]
    }
   ],
   "source": [
    "#que 2\n",
    "arr = arr.reshape(3,4)\n",
    "print(\"The reshaped array is :\")\n",
    "print(arr)"
   ]
  },
  {
   "cell_type": "code",
   "execution_count": 5,
   "id": "427b9a32",
   "metadata": {},
   "outputs": [
    {
     "name": "stdout",
     "output_type": "stream",
     "text": [
      "The flatten matrix is : [ 1  2  3  4  5  6  7  8  9 10 11 12]\n"
     ]
    }
   ],
   "source": [
    "#que 3\n",
    "arr = arr.reshape(-1) # use flatten() or ravel\n",
    "print(\"The flatten matrix is :\" ,arr)"
   ]
  },
  {
   "cell_type": "markdown",
   "id": "c72235f3",
   "metadata": {},
   "source": [
    "<h5>Day-2"
   ]
  },
  {
   "cell_type": "markdown",
   "id": "189d0bbd",
   "metadata": {},
   "source": [
    "1) Create an array of numbers 1–24. Reshape into 2×3×4. Print shape & ndim.\n",
    "2) Reshape the same array into 6×4, then into 12×2.\n",
    "3) Take a random 3×3 matrix and compute its transpose."
   ]
  },
  {
   "cell_type": "code",
   "execution_count": null,
   "id": "e4b86670",
   "metadata": {},
   "outputs": [
    {
     "name": "stdout",
     "output_type": "stream",
     "text": [
      "[[[ 1  2  3  4]\n",
      "  [ 5  6  7  8]\n",
      "  [ 9 10 11 12]]\n",
      "\n",
      " [[13 14 15 16]\n",
      "  [17 18 19 20]\n",
      "  [21 22 23 24]]] \n",
      "The shape of arr after reshaping is (2, 3, 4) , and the dimension is 3\n"
     ]
    }
   ],
   "source": [
    "#que 1\n",
    "arr = np.arange(1,25)\n",
    "arr = arr.reshape(2,3,4)\n",
    "print(f\"{arr} \\nThe shape of arr after reshaping is {arr.shape} , and the dimension is {arr.ndim}\")"
   ]
  },
  {
   "cell_type": "code",
   "execution_count": null,
   "id": "b17bd08f",
   "metadata": {},
   "outputs": [
    {
     "name": "stdout",
     "output_type": "stream",
     "text": [
      "(6, 4)\n",
      "(12, 2)\n"
     ]
    }
   ],
   "source": [
    "#que 2\n",
    "arr = arr.reshape(6,4) \n",
    "print(arr.shape)\n",
    "arr = arr.reshape(12,2) \n",
    "print(arr.shape)"
   ]
  },
  {
   "cell_type": "code",
   "execution_count": null,
   "id": "ee7661ab",
   "metadata": {},
   "outputs": [
    {
     "name": "stdout",
     "output_type": "stream",
     "text": [
      "The orignal matrix is: \n",
      " [[0.14457103 0.281387   0.53347147]\n",
      " [0.55264378 0.75933369 0.05759749]\n",
      " [0.80572074 0.18131343 0.11339681]]\n",
      "The transpose matrix is\n",
      " [[0.14457103 0.55264378 0.80572074]\n",
      " [0.281387   0.75933369 0.18131343]\n",
      " [0.53347147 0.05759749 0.11339681]]\n"
     ]
    }
   ],
   "source": [
    "#que 3\n",
    "matrix = np.random.rand(3,3)\n",
    "traspose = np.transpose(matrix)\n",
    "print(\"The orignal matrix is: \\n\",matrix)\n",
    "print(\"The transpose matrix is\\n\" , traspose)"
   ]
  }
 ],
 "metadata": {
  "kernelspec": {
   "display_name": "Python 3",
   "language": "python",
   "name": "python3"
  },
  "language_info": {
   "codemirror_mode": {
    "name": "ipython",
    "version": 3
   },
   "file_extension": ".py",
   "mimetype": "text/x-python",
   "name": "python",
   "nbconvert_exporter": "python",
   "pygments_lexer": "ipython3",
   "version": "3.12.2"
  }
 },
 "nbformat": 4,
 "nbformat_minor": 5
}
