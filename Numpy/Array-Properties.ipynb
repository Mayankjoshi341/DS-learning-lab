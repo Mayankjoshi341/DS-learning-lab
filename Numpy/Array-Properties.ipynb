{
 "cells": [
  {
   "cell_type": "markdown",
   "id": "e1969a0f",
   "metadata": {},
   "source": [
    "Array-Properties-&-Reshaping\n",
    "Day-1\n",
    "\n",
    "1) Create an array of numbers 1–12. Print: shape, size, ndim, dtype.\n",
    "2) Reshape it into a 3×4 matrix.\n",
    "3) Flatten the matrix back into 1D."
   ]
  },
  {
   "cell_type": "code",
   "execution_count": 1,
   "id": "693cb62c",
   "metadata": {},
   "outputs": [],
   "source": [
    "import numpy as np"
   ]
  },
  {
   "cell_type": "code",
   "execution_count": 2,
   "id": "e60aef1a",
   "metadata": {},
   "outputs": [
    {
     "name": "stdout",
     "output_type": "stream",
     "text": [
      "The shape of array is: (12,)\n",
      "the size of array is: 12\n",
      "The dimensions of the array is : 1\n",
      "The data type od array is : <class 'numpy.ndarray'>\n"
     ]
    }
   ],
   "source": [
    "#que 1\n",
    "arr = np.arange(1,13)\n",
    "print(\"The shape of array is:\" , arr.shape)\n",
    "print(\"the size of array is:\" , arr.size)\n",
    "print(\"The dimensions of the array is :\" , arr.ndim)\n",
    "print(\"The data type od array is :\" , type(arr))"
   ]
  },
  {
   "cell_type": "code",
   "execution_count": 3,
   "id": "8b3931c0",
   "metadata": {},
   "outputs": [
    {
     "name": "stdout",
     "output_type": "stream",
     "text": [
      "The reshaped array is :\n",
      "[[ 1  2  3  4]\n",
      " [ 5  6  7  8]\n",
      " [ 9 10 11 12]]\n"
     ]
    }
   ],
   "source": [
    "#que 2\n",
    "arr = arr.reshape(3,4)\n",
    "print(\"The reshaped array is :\")\n",
    "print(arr)"
   ]
  },
  {
   "cell_type": "code",
   "execution_count": 4,
   "id": "427b9a32",
   "metadata": {},
   "outputs": [
    {
     "name": "stdout",
     "output_type": "stream",
     "text": [
      "The flatten matrix is : [ 1  2  3  4  5  6  7  8  9 10 11 12]\n"
     ]
    }
   ],
   "source": [
    "#que 3\n",
    "arr = arr.reshape(-1) # use flatten() or ravel\n",
    "print(\"The flatten matrix is :\" ,arr)"
   ]
  },
  {
   "cell_type": "markdown",
   "id": "c72235f3",
   "metadata": {},
   "source": [
    "<h5>Day-2"
   ]
  },
  {
   "cell_type": "markdown",
   "id": "189d0bbd",
   "metadata": {},
   "source": [
    "1) Create an array of numbers 1–24. Reshape into 2×3×4. Print shape & ndim.\n",
    "2) Reshape the same array into 6×4, then into 12×2.\n",
    "3) Take a random 3×3 matrix and compute its transpose."
   ]
  },
  {
   "cell_type": "code",
   "execution_count": 5,
   "id": "e4b86670",
   "metadata": {},
   "outputs": [
    {
     "name": "stdout",
     "output_type": "stream",
     "text": [
      "[[[ 1  2  3  4]\n",
      "  [ 5  6  7  8]\n",
      "  [ 9 10 11 12]]\n",
      "\n",
      " [[13 14 15 16]\n",
      "  [17 18 19 20]\n",
      "  [21 22 23 24]]] \n",
      "The shape of arr after reshaping is (2, 3, 4) , and the dimension is 3\n"
     ]
    }
   ],
   "source": [
    "#que 1\n",
    "arr = np.arange(1,25)\n",
    "arr = arr.reshape(2,3,4)\n",
    "print(f\"{arr} \\nThe shape of arr after reshaping is {arr.shape} , and the dimension is {arr.ndim}\")"
   ]
  },
  {
   "cell_type": "code",
   "execution_count": 6,
   "id": "b17bd08f",
   "metadata": {},
   "outputs": [
    {
     "name": "stdout",
     "output_type": "stream",
     "text": [
      "(6, 4)\n",
      "(12, 2)\n"
     ]
    }
   ],
   "source": [
    "#que 2\n",
    "arr = arr.reshape(6,4) \n",
    "print(arr.shape)\n",
    "arr = arr.reshape(12,2) \n",
    "print(arr.shape)"
   ]
  },
  {
   "cell_type": "code",
   "execution_count": 7,
   "id": "ee7661ab",
   "metadata": {},
   "outputs": [
    {
     "name": "stdout",
     "output_type": "stream",
     "text": [
      "The orignal matrix is: \n",
      " [[0.57049009 0.71469569 0.53408663]\n",
      " [0.05369509 0.76822011 0.17225772]\n",
      " [0.29009528 0.38702487 0.67146844]]\n",
      "The transpose matrix is\n",
      " [[0.57049009 0.05369509 0.29009528]\n",
      " [0.71469569 0.76822011 0.38702487]\n",
      " [0.53408663 0.17225772 0.67146844]]\n"
     ]
    }
   ],
   "source": [
    "#que 3\n",
    "matrix = np.random.rand(3,3)\n",
    "traspose = np.transpose(matrix)\n",
    "print(\"The orignal matrix is: \\n\",matrix)\n",
    "print(\"The transpose matrix is\\n\" , traspose)"
   ]
  },
  {
   "cell_type": "markdown",
   "id": "571b01e6",
   "metadata": {},
   "source": [
    "<h5>Day 2"
   ]
  },
  {
   "cell_type": "markdown",
   "id": "3986fd72",
   "metadata": {},
   "source": [
    "1) Create a 1D array of 36 numbers. Reshape it into:\n",
    "    1) 6×6\n",
    "    2) 3×3×4\n",
    "    3) Verify that all reshaped arrays contain the same data.\n",
    "2) Take a 2D random array and compute both row-wise mean and column-wise mean.\n",
    "3) Flatten a 3D array into 1D and then reshape back into 3D again."
   ]
  },
  {
   "cell_type": "code",
   "execution_count": null,
   "id": "4e17fcf7",
   "metadata": {},
   "outputs": [
    {
     "name": "stdout",
     "output_type": "stream",
     "text": [
      "Reshape into 6x6 :\n",
      " [[ 1  2  3  4  5  6]\n",
      " [ 7  8  9 10 11 12]\n",
      " [13 14 15 16 17 18]\n",
      " [19 20 21 22 23 24]\n",
      " [25 26 27 28 29 30]\n",
      " [31 32 33 34 35 36]]\n",
      "Reshape into 3x3x4 : \n",
      " [[[ 1  2  3  4]\n",
      "  [ 5  6  7  8]\n",
      "  [ 9 10 11 12]]\n",
      "\n",
      " [[13 14 15 16]\n",
      "  [17 18 19 20]\n",
      "  [21 22 23 24]]\n",
      "\n",
      " [[25 26 27 28]\n",
      "  [29 30 31 32]\n",
      "  [33 34 35 36]]]\n",
      "Checking the 6x6 True\n",
      "Checking the 3x3x4 True\n"
     ]
    }
   ],
   "source": [
    "#que 1\n",
    "arr = np.arange(1 ,37)\n",
    "arr_6x6 = arr.reshape(6,6)\n",
    "arr_3x3x4 = arr.reshape(3,3,4)\n",
    "print(\"Reshape into 6x6 :\\n\" , arr_6x6)\n",
    "print(\"Reshape into 3x3x4 : \\n\" , arr_3x3x4)\n",
    "print(\"Checking the 6x6\" : , np.array_equal(arr , np.ravel(arr_6x6)))\n",
    "print(\"Checking the 3x3x4\" : , np.array_equal(arr , np.ravel(arr_3x3x4)))\n"
   ]
  },
  {
   "cell_type": "code",
   "execution_count": null,
   "id": "64c7eade",
   "metadata": {},
   "outputs": [
    {
     "name": "stdout",
     "output_type": "stream",
     "text": [
      "The array is [ 9 34 42 43 42 47 27 49 37  1]. mean is 33.1, median is 39.5.\n",
      "The array is [31 11  5 46 39 20 29  4 14 10]. mean is 20.9, median is 17.0.\n",
      "The array is  [ 9 31]. mean is 20.0\n"
     ]
    },
    {
     "data": {
      "text/plain": [
       "array([[ 9, 34, 42, 43, 42, 47, 27, 49, 37,  1],\n",
       "       [31, 11,  5, 46, 39, 20, 29,  4, 14, 10]], dtype=int32)"
      ]
     },
     "execution_count": 40,
     "metadata": {},
     "output_type": "execute_result"
    }
   ],
   "source": [
    "#Que 2\n",
    "arr = np.random.randint(1,51 , size = (2,10))\n",
    "print(f\"The array is {arr[0]}. mean is {arr[0,].mean()}, median is {np.median(arr[0])}.\")\n",
    "print(f\"The array is {arr[1]}. mean is {arr[1,].mean()}, median is {np.median(arr[1])}.\")\n",
    "print(f\"The array is  {arr[0:,0]}. mean is {arr[0:,0].mean()}\")\n",
    "arr"
   ]
  },
  {
   "cell_type": "code",
   "execution_count": 47,
   "id": "fa4bf8b8",
   "metadata": {},
   "outputs": [
    {
     "name": "stdout",
     "output_type": "stream",
     "text": [
      "The orginal array is : \n",
      " [[1 2 3]\n",
      " [4 5 6]\n",
      " [7 8 9]]\n",
      "The flated array into 1d is [1 2 3 4 5 6 7 8 9] and the dimension of it is 1 and the shape is (9,)\n",
      "The flated array into 3d is \n",
      "[[1 2 3]\n",
      " [4 5 6]\n",
      " [7 8 9]]\n",
      " and the dimension of it is 2 and the shape is (3, 3)\n"
     ]
    }
   ],
   "source": [
    "#que 3\n",
    "arr = np.arange(1,10).reshape(3,3)\n",
    "print(\"The orginal array is : \\n\" , arr)\n",
    "arr_to_1d = arr.flatten()\n",
    "print(f\"The flated array into 1d is {arr_to_1d} and the dimension of it is {arr_to_1d.ndim } and the shape is {arr_to_1d.shape}\")\n",
    "arr_to_3d = arr.reshape(3,3)\n",
    "print(f\"The flated array into 3d is \\n{arr_to_3d}\\n and the dimension of it is {arr_to_3d.ndim } and the shape is {arr_to_3d.shape}\")\n"
   ]
  }
 ],
 "metadata": {
  "kernelspec": {
   "display_name": "Python 3",
   "language": "python",
   "name": "python3"
  },
  "language_info": {
   "codemirror_mode": {
    "name": "ipython",
    "version": 3
   },
   "file_extension": ".py",
   "mimetype": "text/x-python",
   "name": "python",
   "nbconvert_exporter": "python",
   "pygments_lexer": "ipython3",
   "version": "3.12.2"
  }
 },
 "nbformat": 4,
 "nbformat_minor": 5
}
