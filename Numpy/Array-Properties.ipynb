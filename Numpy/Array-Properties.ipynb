{
 "cells": [
  {
   "cell_type": "markdown",
   "id": "e1969a0f",
   "metadata": {},
   "source": [
    "Array-Properties-&-Reshaping\n",
    "Day-1\n",
    "\n",
    "1) Create an array of numbers 1–12. Print: shape, size, ndim, dtype.\n",
    "2) Reshape it into a 3×4 matrix.\n",
    "3) Flatten the matrix back into 1D."
   ]
  },
  {
   "cell_type": "code",
   "execution_count": 1,
   "id": "693cb62c",
   "metadata": {},
   "outputs": [],
   "source": [
    "import numpy as np"
   ]
  },
  {
   "cell_type": "code",
   "execution_count": null,
   "id": "e60aef1a",
   "metadata": {},
   "outputs": [
    {
     "name": "stdout",
     "output_type": "stream",
     "text": [
      "The shape of array is: (12,)\n",
      "the size of array is: 12\n",
      "The dimensions of the array is : 1\n",
      "The data type od array is : <class 'numpy.ndarray'>\n"
     ]
    }
   ],
   "source": [
    "#que 1\n",
    "arr = np.arange(1,13)\n",
    "print(\"The shape of array is:\" , arr.shape)\n",
    "print(\"the size of array is:\" , arr.size)\n",
    "print(\"The dimensions of the array is :\" , arr.ndim)\n",
    "print(\"The data type od array is :\" , type(arr))"
   ]
  },
  {
   "cell_type": "code",
   "execution_count": 8,
   "id": "8b3931c0",
   "metadata": {},
   "outputs": [
    {
     "name": "stdout",
     "output_type": "stream",
     "text": [
      "The reshaped array is :\n",
      "[[ 1  2  3  4]\n",
      " [ 5  6  7  8]\n",
      " [ 9 10 11 12]]\n"
     ]
    }
   ],
   "source": [
    "#que 2\n",
    "arr = arr.reshape(3,4)\n",
    "print(\"The reshaped array is :\")\n",
    "print(arr)"
   ]
  },
  {
   "cell_type": "code",
   "execution_count": null,
   "id": "427b9a32",
   "metadata": {},
   "outputs": [
    {
     "name": "stdout",
     "output_type": "stream",
     "text": [
      "The flatten matrix is : [ 1  2  3  4  5  6  7  8  9 10 11 12]\n"
     ]
    }
   ],
   "source": [
    "#que 3\n",
    "arr = arr.reshape(-1) # use flatten() or ravel\n",
    "print(\"The flatten matrix is :\" ,arr)"
   ]
  }
 ],
 "metadata": {
  "kernelspec": {
   "display_name": "Python 3",
   "language": "python",
   "name": "python3"
  },
  "language_info": {
   "codemirror_mode": {
    "name": "ipython",
    "version": 3
   },
   "file_extension": ".py",
   "mimetype": "text/x-python",
   "name": "python",
   "nbconvert_exporter": "python",
   "pygments_lexer": "ipython3",
   "version": "3.12.2"
  }
 },
 "nbformat": 4,
 "nbformat_minor": 5
}
